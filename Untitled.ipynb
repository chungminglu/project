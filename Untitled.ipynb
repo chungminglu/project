{
 "cells": [
  {
   "cell_type": "code",
   "execution_count": 10,
   "metadata": {
    "scrolled": true
   },
   "outputs": [
    {
     "name": "stdout",
     "output_type": "stream",
     "text": [
      "thread 請輸入三個 year,month,day:\n",
      "2017\n",
      "8\n",
      "1\n",
      "thread 請輸入三個year,month,day:\n",
      "2017\n",
      "8\n",
      "2\n",
      "thread 請輸入三個year,month,day:\n",
      "2017\n",
      "8\n",
      "3\n",
      "2017/08/01 downlowing\n",
      "2017/08/02 downlowing2017/08/03 downlowing\n",
      "\n",
      "200 - OK\n",
      "<html><head><meta http-equiv=\"Content-Type\" content=\"text/html; charset=UTF-8\"><meta http-equiv=\"X-UA-Compatible\" content=\"IE=Edge\"><meta http-equiv=\"Cache-Control\" content=\"no-store\"><meta http-equiv=\"Pragma\" content=\"no-cache\"><meta http-equiv=\"Cache-Control\" content=\"no-cache\"><title>China Airlines</title><script type=\"text/javascript\" src=\"/dtagent637_bjq_1007.js\" data-dtconfig=\"rid=RID_-192311390|rpid=1994271226|domain=china-airlines.com|tp=500,50,0|bandwidth=300|reportUrl=dynaTraceMonitor\"></script><link rel=\"stylesheet\" href=\"https://bookingportal.china-airlines.com/eRetailInterface/PortalStyle/eRetail/css/Common.css\"><link rel=\"stylesheet\" href=\"https://bookingportal.china-airlines.com/eRetailInterface/PortalStyle/eRetail/css/Fonts.css\"><link rel=\"stylesheet\" href=\"https://bookingportal.china-airlines.com/eRetailInterface/PortalStyle/eRetail/css/bootstrap-24.css\"><link rel=\"stylesheet\" href=\"https://bookingportal.china-airlines.com/eRetailInterface/PortalStyle/eRetail/css/bootstrap-custom.css\"><link rel=\"stylesheet\" href=\"https://bookingportal.china-airlines.com/eRetailInterface/PortalStyle/eRetail/css/DXCustom.css\"></head><body><!-- Google Tag Manager --><noscript>&lt;iframe src=\"//www.googletagmanager.com/ns.html?id=GTM-MKCPLJ\"height=\"0\" width=\"0\" style=\"display:none;visibility:hidden\"&gt;&lt;/iframe&gt;</noscript><script>(function(w,d,s,l,i){w[l]=w[l]||[];w[l].push({'gtm.start':new Date().getTime(),event:'gtm.js'});var f=d.getElementsByTagName(s)[0],j=d.createElement(s),dl=l!='dataLayer'?'&l='+l:'';j.async=true;j.src='//www.googletagmanager.com/gtm.js?id='+i+dl;f.parentNode.insertBefore(j,f);})(window,document,'script','dataLayer','GTM-MKCPLJ');</script></body></html>\n"
     ]
    },
    {
     "name": "stderr",
     "output_type": "stream",
     "text": [
      "Exception in thread Thread-20:\n",
      "Traceback (most recent call last):\n",
      "  File \"D:\\ProgramData\\Anaconda3\\lib\\threading.py\", line 916, in _bootstrap_inner\n",
      "    self.run()\n",
      "  File \"<ipython-input-10-ae31bd125646>\", line 11, in run\n",
      "    crawlerchina(self.ye,self.mon,self.da)\n",
      "  File \"<ipython-input-10-ae31bd125646>\", line 96, in crawlerchina\n",
      "    with open('D:/python_workspace/{}.html'.format(date),'w',encoding=\"utf-8\") as f:\n",
      "FileNotFoundError: [Errno 2] No such file or directory: 'D:/python_workspace/2017/08/03.html'\n",
      "\n"
     ]
    },
    {
     "name": "stdout",
     "output_type": "stream",
     "text": [
      "200 - OK\n",
      "<html><head><meta http-equiv=\"Content-Type\" content=\"text/html; charset=UTF-8\"><meta http-equiv=\"X-UA-Compatible\" content=\"IE=Edge\"><meta http-equiv=\"Cache-Control\" content=\"no-store\"><meta http-equiv=\"Pragma\" content=\"no-cache\"><meta http-equiv=\"Cache-Control\" content=\"no-cache\"><title>China Airlines</title><script type=\"text/javascript\" async=\"\" src=\"https://www.google-analytics.com/plugins/ua/ec.js\"></script><script src=\"https://connect.facebook.net/signals/config/877710818977745?v=2.7.18\" async=\"\"></script><script async=\"\" src=\"https://connect.facebook.net/en_US/fbevents.js\"></script><script type=\"text/javascript\" async=\"\" src=\"https://ssl.google-analytics.com/ga.js\"></script><script type=\"text/javascript\" async=\"\" src=\"https://www.google-analytics.com/analytics.js\"></script><script async=\"\" src=\"//www.googletagmanager.com/gtm.js?id=GTM-MKCPLJ\"></script><script type=\"text/javascript\" src=\"/dtagent637_bjq_1007.js\" data-dtconfig=\"rid=RID_-192311390|rpid=-2081334885|domain=china-airlines.com|tp=500,50,0|bandwidth=300|reportUrl=dynaTraceMonitor\"></script><link rel=\"stylesheet\" href=\"https://bookingportal.china-airlines.com/eRetailInterface/PortalStyle/eRetail/css/Common.css\"><link rel=\"stylesheet\" href=\"https://bookingportal.china-airlines.com/eRetailInterface/PortalStyle/eRetail/css/Fonts.css\"><link rel=\"stylesheet\" href=\"https://bookingportal.china-airlines.com/eRetailInterface/PortalStyle/eRetail/css/bootstrap-24.css\"><link rel=\"stylesheet\" href=\"https://bookingportal.china-airlines.com/eRetailInterface/PortalStyle/eRetail/css/bootstrap-custom.css\"><link rel=\"stylesheet\" href=\"https://bookingportal.china-airlines.com/eRetailInterface/PortalStyle/eRetail/css/DXCustom.css\"></head><body><!-- Google Tag Manager --><noscript>&lt;iframe src=\"//www.googletagmanager.com/ns.html?id=GTM-MKCPLJ\"height=\"0\" width=\"0\" style=\"display:none;visibility:hidden\"&gt;&lt;/iframe&gt;</noscript><script>(function(w,d,s,l,i){w[l]=w[l]||[];w[l].push({'gtm.start':new Date().getTime(),event:'gtm.js'});var f=d.getElementsByTagName(s)[0],j=d.createElement(s),dl=l!='dataLayer'?'&l='+l:'';j.async=true;j.src='//www.googletagmanager.com/gtm.js?id='+i+dl;f.parentNode.insertBefore(j,f);})(window,document,'script','dataLayer','GTM-MKCPLJ');</script><!-- End Google Tag Manager --><section id=\"main-container\" class=\"container\" style=\"min-height:100%; position:relative;\"><header id=\"main-layout-header\" class=\"row layout-header\"><header id=\"CIheader\"><div class=\"container\"><div class=\"navbar-header\"><a title=\"China airlines\" class=\"navbar-brand\" href=\"http://www.china-airlines.com/\" target=\"_blank\"><img class=\"header-img\" src=\"https://bookingportal.china-airlines.com/eRetailInterface/PortalStyle/eRetail/image/logo-CI-ch.png\" data-pin-nopin=\"true\"></a></div></div></header></header><section class=\"row layout-middle\" style=\"padding-top: 60px;\"><article class=\"col-xs-24 layout-center-column\"><header id=\"main-layout-top\" class=\"row layout-top hidden-sm hidden-xs\"></header><section class=\"row layout-body\" id=\"page-container-parent\"><div style=\"margin:auto;display: table;\"><img style=\"display:table-cell;z-index:1;\" src=\"https://www.china-airlines.com/sea/th/Images/9_tcm61-18030.jpg\"></div><form name=\"book\" action=\"https://book.china-airlines.com/plnext/FPChinaAirlines/Override.action\" method=\"post\"><input type=\"hidden\" name=\"EMBEDDED_TRANSACTION\" value=\"FlexPricerAvailability\"><input type=\"hidden\" name=\"ENC\" value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input type=\"hidden\" name=\"ENCT\" value=\"1\"><input type=\"hidden\" name=\"SITE\" value=\"CARMCARM\"><input type=\"hidden\" name=\"LANGUAGE\" value=\"TW\"></form></section><footer id=\"main-layout-bottom\" class=\"row layout-bottom hidden-sm hidden-xs\"></footer></article></section><footer id=\"main-layout-footer\" class=\"row layout-footer\" style=\"position:absolute; bottom:0px; width:100%;\"><div id=\"footer\" role=\"footer\"><div class=\"container\"><div class=\"copyright-info\" style=\"padding:0;\"><div class=\"text-center\">Copyright © China Airlines 2016</div></div></div></div></footer></section><script type=\"text/javascript\">document.book.submit();</script>\n",
      "<script type=\"text/javascript\" id=\"\">!function(b,e,f,g,a,c,d){b.fbq||(a=b.fbq=function(){a.callMethod?a.callMethod.apply(a,arguments):a.queue.push(arguments)},b._fbq||(b._fbq=a),a.push=a,a.loaded=!0,a.version=\"2.0\",a.queue=[],c=e.createElement(f),c.async=!0,c.src=g,d=e.getElementsByTagName(f)[0],d.parentNode.insertBefore(c,d))}(window,document,\"script\",\"https://connect.facebook.net/en_US/fbevents.js\");fbq(\"init\",\"877710818977745\");fbq(\"track\",\"PageView\");</script>\n",
      "<noscript>&lt;img height=\"1\" width=\"1\" style=\"display:none\" src=\"https://www.facebook.com/tr?id=877710818977745&amp;amp;ev=PageView&amp;amp;noscript=1\"&gt;</noscript>\n",
      "<script type=\"text/javascript\" id=\"\">$(\".social-wrapper\").on(\"click\",\".fb-wrapper\",function(a){dataLayer.push({event:\"Home-social-login-event\",social_login_info:\"Login by facebook.\"})});$(\".social-wrapper\").on(\"click\",\".google-plus-wrapper\",function(a){dataLayer.push({event:\"Home-social-login-event\",social_login_info:\"Login by google plus.\"})});</script></body></html>\n"
     ]
    },
    {
     "name": "stderr",
     "output_type": "stream",
     "text": [
      "Exception in thread Thread-19:\n",
      "Traceback (most recent call last):\n",
      "  File \"D:\\ProgramData\\Anaconda3\\lib\\threading.py\", line 916, in _bootstrap_inner\n",
      "    self.run()\n",
      "  File \"<ipython-input-10-ae31bd125646>\", line 11, in run\n",
      "    crawlerchina(self.ye,self.mon,self.da)\n",
      "  File \"<ipython-input-10-ae31bd125646>\", line 96, in crawlerchina\n",
      "    with open('D:/python_workspace/{}.html'.format(date),'w',encoding=\"utf-8\") as f:\n",
      "FileNotFoundError: [Errno 2] No such file or directory: 'D:/python_workspace/2017/08/02.html'\n",
      "\n"
     ]
    },
    {
     "name": "stdout",
     "output_type": "stream",
     "text": [
      "200 - OK\n",
      "<html><head><meta http-equiv=\"Content-Type\" content=\"text/html; charset=UTF-8\"><meta http-equiv=\"X-UA-Compatible\" content=\"IE=Edge\"><meta http-equiv=\"Cache-Control\" content=\"no-store\"><meta http-equiv=\"Pragma\" content=\"no-cache\"><meta http-equiv=\"Cache-Control\" content=\"no-cache\"><title>China Airlines</title><script type=\"text/javascript\" async=\"\" src=\"https://www.google-analytics.com/plugins/ua/ec.js\"></script><script src=\"https://connect.facebook.net/signals/config/877710818977745?v=2.7.18\" async=\"\"></script><script async=\"\" src=\"https://connect.facebook.net/en_US/fbevents.js\"></script><script type=\"text/javascript\" async=\"\" src=\"https://ssl.google-analytics.com/ga.js\"></script><script type=\"text/javascript\" async=\"\" src=\"https://www.google-analytics.com/analytics.js\"></script><script async=\"\" src=\"//www.googletagmanager.com/gtm.js?id=GTM-MKCPLJ\"></script><script type=\"text/javascript\" src=\"/dtagent637_bjq_1007.js\" data-dtconfig=\"rid=RID_-192311390|rpid=-1009596519|domain=china-airlines.com|tp=500,50,0|bandwidth=300|reportUrl=dynaTraceMonitor\"></script><link rel=\"stylesheet\" href=\"https://bookingportal.china-airlines.com/eRetailInterface/PortalStyle/eRetail/css/Common.css\"><link rel=\"stylesheet\" href=\"https://bookingportal.china-airlines.com/eRetailInterface/PortalStyle/eRetail/css/Fonts.css\"><link rel=\"stylesheet\" href=\"https://bookingportal.china-airlines.com/eRetailInterface/PortalStyle/eRetail/css/bootstrap-24.css\"><link rel=\"stylesheet\" href=\"https://bookingportal.china-airlines.com/eRetailInterface/PortalStyle/eRetail/css/bootstrap-custom.css\"><link rel=\"stylesheet\" href=\"https://bookingportal.china-airlines.com/eRetailInterface/PortalStyle/eRetail/css/DXCustom.css\"></head><body><!-- Google Tag Manager --><noscript>&lt;iframe src=\"//www.googletagmanager.com/ns.html?id=GTM-MKCPLJ\"height=\"0\" width=\"0\" style=\"display:none;visibility:hidden\"&gt;&lt;/iframe&gt;</noscript><script>(function(w,d,s,l,i){w[l]=w[l]||[];w[l].push({'gtm.start':new Date().getTime(),event:'gtm.js'});var f=d.getElementsByTagName(s)[0],j=d.createElement(s),dl=l!='dataLayer'?'&l='+l:'';j.async=true;j.src='//www.googletagmanager.com/gtm.js?id='+i+dl;f.parentNode.insertBefore(j,f);})(window,document,'script','dataLayer','GTM-MKCPLJ');</script><!-- End Google Tag Manager --><section id=\"main-container\" class=\"container\" style=\"min-height:100%; position:relative;\"><header id=\"main-layout-header\" class=\"row layout-header\"><header id=\"CIheader\"><div class=\"container\"><div class=\"navbar-header\"><a title=\"China airlines\" class=\"navbar-brand\" href=\"http://www.china-airlines.com/\" target=\"_blank\"><img class=\"header-img\" src=\"https://bookingportal.china-airlines.com/eRetailInterface/PortalStyle/eRetail/image/logo-CI-ch.png\" data-pin-nopin=\"true\"></a></div></div></header></header><section class=\"row layout-middle\" style=\"padding-top: 60px;\"><article class=\"col-xs-24 layout-center-column\"><header id=\"main-layout-top\" class=\"row layout-top hidden-sm hidden-xs\"></header><section class=\"row layout-body\" id=\"page-container-parent\"><div style=\"margin:auto;display: table;\"><img style=\"display:table-cell;z-index:1;\" src=\"https://www.china-airlines.com/sea/th/Images/6_tcm61-18027.jpg\"></div><form name=\"book\" action=\"https://book.china-airlines.com/plnext/FPChinaAirlines/Override.action\" method=\"post\"><input type=\"hidden\" name=\"EMBEDDED_TRANSACTION\" value=\"FlexPricerAvailability\"><input type=\"hidden\" name=\"ENC\" value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input type=\"hidden\" name=\"ENCT\" value=\"1\"><input type=\"hidden\" name=\"SITE\" value=\"CARMCARM\"><input type=\"hidden\" name=\"LANGUAGE\" value=\"TW\"></form></section><footer id=\"main-layout-bottom\" class=\"row layout-bottom hidden-sm hidden-xs\"></footer></article></section><footer id=\"main-layout-footer\" class=\"row layout-footer\" style=\"position:absolute; bottom:0px; width:100%;\"><div id=\"footer\" role=\"footer\"><div class=\"container\"><div class=\"copyright-info\" style=\"padding:0;\"><div class=\"text-center\">Copyright © China Airlines 2016</div></div></div></div></footer></section><script type=\"text/javascript\">document.book.submit();</script>\n",
      "<script type=\"text/javascript\" id=\"\">!function(b,e,f,g,a,c,d){b.fbq||(a=b.fbq=function(){a.callMethod?a.callMethod.apply(a,arguments):a.queue.push(arguments)},b._fbq||(b._fbq=a),a.push=a,a.loaded=!0,a.version=\"2.0\",a.queue=[],c=e.createElement(f),c.async=!0,c.src=g,d=e.getElementsByTagName(f)[0],d.parentNode.insertBefore(c,d))}(window,document,\"script\",\"https://connect.facebook.net/en_US/fbevents.js\");fbq(\"init\",\"877710818977745\");fbq(\"track\",\"PageView\");</script>\n",
      "<noscript>&lt;img height=\"1\" width=\"1\" style=\"display:none\" src=\"https://www.facebook.com/tr?id=877710818977745&amp;amp;ev=PageView&amp;amp;noscript=1\"&gt;</noscript>\n",
      "<script type=\"text/javascript\" id=\"\">$(\".social-wrapper\").on(\"click\",\".fb-wrapper\",function(a){dataLayer.push({event:\"Home-social-login-event\",social_login_info:\"Login by facebook.\"})});$(\".social-wrapper\").on(\"click\",\".google-plus-wrapper\",function(a){dataLayer.push({event:\"Home-social-login-event\",social_login_info:\"Login by google plus.\"})});</script></body></html>\n",
      " <myThread(Thread-18, stopped 8208)> Exiting Main Thread\n",
      " <myThread(Thread-19, stopped 9380)> Exiting Main Thread\n",
      " <myThread(Thread-20, stopped 4688)> Exiting Main Thread\n"
     ]
    },
    {
     "name": "stderr",
     "output_type": "stream",
     "text": [
      "Exception in thread Thread-18:\n",
      "Traceback (most recent call last):\n",
      "  File \"D:\\ProgramData\\Anaconda3\\lib\\threading.py\", line 916, in _bootstrap_inner\n",
      "    self.run()\n",
      "  File \"<ipython-input-10-ae31bd125646>\", line 11, in run\n",
      "    crawlerchina(self.ye,self.mon,self.da)\n",
      "  File \"<ipython-input-10-ae31bd125646>\", line 96, in crawlerchina\n",
      "    with open('D:/python_workspace/{}.html'.format(date),'w',encoding=\"utf-8\") as f:\n",
      "FileNotFoundError: [Errno 2] No such file or directory: 'D:/python_workspace/2017/08/01.html'\n",
      "\n"
     ]
    }
   ],
   "source": [
    "import time\n",
    "import threading\n",
    "class myThread (threading.Thread):\n",
    "   def __init__(self, threadID,ye,mon,da):\n",
    "      threading.Thread.__init__(self)\n",
    "      self.threadID = threadID\n",
    "      self.ye = ye\n",
    "      self.mon= mon\n",
    "      self.da=da\n",
    "   def run (self):\n",
    "       crawlerchina(self.ye,self.mon,self.da)  \n",
    "def crawlerchina(ye,mon,da):\n",
    "    import requests\n",
    "    from bs4 import BeautifulSoup\n",
    "    import lxml,html5lib\n",
    "    from splinter import Browser\n",
    "    import time\n",
    "    import random\n",
    "    year=ye#'''出發時間'''\n",
    "    month=int(mon)\n",
    "    day=int(da)#強轉成整數\n",
    "    year1=ye#'返回時間'\n",
    "    month1=int(mon)\n",
    "    day1=int(da)+5\n",
    "    while(True):\n",
    "        count=1 #計算這個連線下載次數\n",
    "        if(month>12):\n",
    "            year=int(year)+1\n",
    "            year='%s' %(str(year))\n",
    "#       year='%s' %(str(year))#轉成字串\n",
    "        elif(month==1|month==3|month==5|month==7|month==8|month==10|month==12):#檢查31號的月份\n",
    "            if(day>31):\n",
    "                day=1\n",
    "                month=int(month)+1\n",
    "#             month='%s' %(str(month))\n",
    "        elif(month==4|month==6|month==9|month==11):\n",
    "            if(day>30):\n",
    "                day=1\n",
    "                month=int(month)+1\n",
    "#               month='%s' %(str(month))\n",
    "        elif(month==2):\n",
    "            if(day>28):\n",
    "                day=1\n",
    "                month=int(month)+1\n",
    "#               month='%s' %(str(month))\n",
    "        month='%s' %(str(month))\n",
    "        day='%s'%(str(day))\n",
    "        if(len(day)==1&len(month)==1):\n",
    "            date='%s/0%s/0%s' %(year,month,day)\n",
    "        else:\n",
    "            date='%s/%s/%s' %(year,month,day)       \n",
    "        if(month1>12):\n",
    "            year1=int(year1)+1\n",
    "            year1='%s' %(str(year1))\n",
    "#       year1='%s' %(str(year))#轉成字串\n",
    "        if(month1==1|month1==3|month1==5|month1==7|month1==8|month1==10|month1==12):#檢查31號的月份\n",
    "            if(day1>31):\n",
    "                day1=1\n",
    "                month1=int(month1)+1\n",
    "                month1='%s' %(str(month1))\n",
    "        elif(month1==4|month1==6|month1==9|month1==11):\n",
    "            if(day1>30):\n",
    "                day1=1\n",
    "                month1=int(month1)+1\n",
    "#               month1='%s' %(str(month1))\n",
    "        elif(month1==2):\n",
    "            if(day1>28):\n",
    "                day1=1\n",
    "                month=int(month1)+1\n",
    "#               month='%s' %(str(mont1))\n",
    "        month1='%s' %(str(month1))\n",
    "        day1='%s' %(str(day1))\n",
    "        if(len(day1)==1&len(month1)==1):\n",
    "            date1='%s/0%s/0%s' %(year1,month1,day1)\n",
    "        else:\n",
    "            date1='%s/%s/%s' %(year1,month1,day1)\n",
    "        print('%s downlowing'%(date))\n",
    "        browser=Browser(\"phantomjs\")\n",
    "        browser.driver.set_window_size(400, 1600)\n",
    "        browser.visit(\"https://www.china-airlines.com/tw/zh?utm_content=RGT-01-140MAR17GOSEM&utm_source=GO&utm_medium=sem&utm_campaign=RGT&utm_number=140\")\n",
    "        browser.find_by_id('From-booking').fill('台北')\n",
    "        browser.find_by_xpath('//*[@id=\"From-booking-suggestions\"]/li[1]').click()\n",
    "        browser.find_by_id('To-booking').fill('大阪-KIX-日本')\n",
    "        time.sleep( random.uniform(0.1,5))\n",
    "        browser.find_by_xpath('//*[@id=\"departureDateMobile\"]').fill(date)\n",
    "        time.sleep(random.uniform(0.1,5))\n",
    "        browser.find_by_xpath('//*[@id=\"returnDateMobile\"]').fill(date1)\n",
    "        time.sleep(random.uniform(0.1,5))\n",
    "        browser.find_by_xpath('//*[@id=\"FlightSearchResultPost\"]/div[3]/div/div[5]/a').click()\n",
    "        print(browser.status_code)\n",
    "        count+=1\n",
    "        while True:\n",
    "            if browser.is_element_not_present_by_id('#availability')==True:\n",
    "                break\n",
    "        print(browser.html)        \n",
    "        with open('D:/python_workspace/{}{}{}.html'.format(year,month,date),'w',encoding=\"utf-8\") as f:\n",
    "            f.write(broweser.html)\n",
    "            f.close()\n",
    "        \n",
    "        if(count>=10):#移除這個browser\n",
    "            browser.quit()\n",
    "        day=1+int(day)#字串轉整數\n",
    "        day1=1+int(day)\n",
    "        month=int(month)\n",
    "        month1=int(month1)\n",
    "if __name__ == '__main__':\n",
    "    print(\"thread 請輸入三個 year,month,day:\")\n",
    "    a=input()\n",
    "    b=input()\n",
    "    c=input()\n",
    "    thread1=myThread(1,a,b,c)\n",
    "    print(\"thread 請輸入三個year,month,day:\")\n",
    "    a=input()\n",
    "    b=input()\n",
    "    c=input()\n",
    "    thread2=myThread(2,a,b,c)\n",
    "    print(\"thread 請輸入三個year,month,day:\")\n",
    "    a=input()\n",
    "    b=input()\n",
    "    c=input()\n",
    "    thread3=myThread(3,a,b,c)\n",
    "    threads=[]\n",
    "    try:\n",
    "        thread1.start()\n",
    "        thread2.start()\n",
    "        thread3.start()\n",
    "        threads.append(thread1)\n",
    "        threads.append(thread2)\n",
    "        threads.append(thread3)\n",
    "        for t in threads:\n",
    "            t.join()\n",
    "            print(\" {} Exiting Main Thread\".format(t))\n",
    "    except:\n",
    "        pass"
   ]
  },
  {
   "cell_type": "code",
   "execution_count": 4,
   "metadata": {},
   "outputs": [
    {
     "data": {
      "text/plain": [
       "'./{}.html'"
      ]
     },
     "execution_count": 4,
     "metadata": {},
     "output_type": "execute_result"
    }
   ],
   "source": [
    "\"./{}.html\""
   ]
  },
  {
   "cell_type": "code",
   "execution_count": 8,
   "metadata": {},
   "outputs": [
    {
     "ename": "NameError",
     "evalue": "name 'threa1' is not defined",
     "output_type": "error",
     "traceback": [
      "\u001b[1;31m---------------------------------------------------------------------------\u001b[0m",
      "\u001b[1;31mNameError\u001b[0m                                 Traceback (most recent call last)",
      "\u001b[1;32m<ipython-input-8-21607a5964d8>\u001b[0m in \u001b[0;36m<module>\u001b[1;34m()\u001b[0m\n\u001b[1;32m----> 1\u001b[1;33m \u001b[0mthrea1\u001b[0m\u001b[1;33m.\u001b[0m\u001b[0mf\u001b[0m\u001b[1;33m\u001b[0m\u001b[0m\n\u001b[0m",
      "\u001b[1;31mNameError\u001b[0m: name 'threa1' is not defined"
     ]
    }
   ],
   "source": [
    "threa1.f"
   ]
  }
 ],
 "metadata": {
  "kernelspec": {
   "display_name": "Python 3",
   "language": "python",
   "name": "python3"
  },
  "language_info": {
   "codemirror_mode": {
    "name": "ipython",
    "version": 3
   },
   "file_extension": ".py",
   "mimetype": "text/x-python",
   "name": "python",
   "nbconvert_exporter": "python",
   "pygments_lexer": "ipython3",
   "version": "3.6.1"
  }
 },
 "nbformat": 4,
 "nbformat_minor": 2
}
