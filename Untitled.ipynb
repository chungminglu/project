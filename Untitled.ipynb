{
 "cells": [
  {
   "cell_type": "code",
   "execution_count": null,
   "metadata": {
    "scrolled": true
   },
   "outputs": [
    {
     "name": "stdout",
     "output_type": "stream",
     "text": [
      "thread 請輸入三個 year,month,day:\n"
     ]
    }
   ],
   "source": [
    "import time\n",
    "import threading\n",
    "class myThread (threading.Thread):\n",
    "   def __init__(self, threadID,year,month,day):\n",
    "      threading.Thread.__init__(self)\n",
    "      self.threadID = threadID\n",
    "      self.year = year\n",
    "      self.month= month\n",
    "      self.day=day\n",
    "   def run (self):\n",
    "       crawlerchina(self.year,self.month,self.day)  \n",
    "def crawlerchina(year,month,day):\n",
    "    import requests\n",
    "    from bs4 import BeautifulSoup\n",
    "    import lxml,html5lib\n",
    "    from splinter import Browser\n",
    "    import time\n",
    "    import random\n",
    "    year=year     #'''出發時間'''\n",
    "    month=int(month)\n",
    "    day=int(day)#強轉成整數\n",
    "    year1=year#'返回時間'\n",
    "    month1=int(month)\n",
    "    day1=int(day)+5\n",
    "    while(True):\n",
    "        count=1 #計算這個連線下載次數\n",
    "        if(month>12):\n",
    "            year=int(year)+1\n",
    "            year='%s' %(str(year))\n",
    "#       year='%s' %(str(year))#轉成字串\n",
    "        elif(month==1|month==3|month==5|month==7|month==8|month==10|month==12):#檢查31號的月份\n",
    "            if(day>31):\n",
    "                day=1\n",
    "                month=int(month)+1\n",
    "#             month='%s' %(str(month))\n",
    "        elif(month==4|month==6|month==9|month==11):\n",
    "            if(day>30):\n",
    "                day=1\n",
    "                month=int(month)+1\n",
    "#               month='%s' %(str(month))\n",
    "        elif(month==2):\n",
    "            if(day>28):\n",
    "                day=1\n",
    "                month=int(month)+1\n",
    "#               month='%s' %(str(month))\n",
    "        month='%s' %(str(month))\n",
    "        day='%s'%(str(day))\n",
    "        if(len(day)==1&len(month)==1):\n",
    "            date='%s/0%s/0%s' %(year,month,day)\n",
    "        else:\n",
    "            date='%s/%s/%s' %(year,month,day)       \n",
    "        if(month1>12):\n",
    "            year1=int(year1)+1\n",
    "            year1='%s' %(str(year1))\n",
    "#       year1='%s' %(str(year))#轉成字串\n",
    "        if(month1==1|month1==3|month1==5|month1==7|month1==8|month1==10|month1==12):#檢查31號的月份\n",
    "            if(day1>31):\n",
    "                day1=1\n",
    "                month1=int(month1)+1\n",
    "                month1='%s' %(str(month1))\n",
    "        elif(month1==4|month1==6|month1==9|month1==11):\n",
    "            if(day1>30):\n",
    "                day1=1\n",
    "                month1=int(month1)+1\n",
    "#               month1='%s' %(str(month1))\n",
    "        elif(month1==2):\n",
    "            if(day1>28):\n",
    "                day1=1\n",
    "                month=int(month1)+1\n",
    "#               month='%s' %(str(mont1))\n",
    "        month1='%s' %(str(month1))\n",
    "        day1='%s' %(str(day1))\n",
    "        if(len(day1)==1&len(month1)==1):\n",
    "            date1='%s/0%s/0%s' %(year1,month1,day1)\n",
    "        else:\n",
    "            date1='%s/%s/%s' %(year1,month1,day1)\n",
    "        print('%s downlowing'%(date))\n",
    "        browser=Browser(\"phantomjs\")\n",
    "        browser.driver.set_window_size(400, 1600)\n",
    "        browser.visit(\"https://www.china-airlines.com/tw/zh\")\n",
    "        browser.find_by_id('From-booking').fill('台北')\n",
    "        browser.find_by_xpath('//*[@id=\"From-booking-suggestions\"]/li[1]').click()\n",
    "        browser.find_by_id('To-booking').fill('大阪-KIX-日本')\n",
    "        time.sleep( random.uniform(0.1,5))\n",
    "        browser.find_by_xpath('//*[@id=\"departureDateMobile\"]').fill(date)\n",
    "        time.sleep(random.uniform(0.1,5))\n",
    "        browser.find_by_xpath('//*[@id=\"returnDateMobile\"]').fill(date1)\n",
    "        time.sleep(random.uniform(0.1,5))\n",
    "        browser.find_by_xpath('//*[@id=\"FlightSearchResultPost\"]/div[3]/div/div[5]/a').click()\n",
    "        print(browser.status_code)\n",
    "        count+=1\n",
    "        while True:\n",
    "            if browser.is_element_present_by_text('航班')==True:   \n",
    "                with open('./{}{}{}.html'.format(year,month,day),'w',encoding=\"utf-8\") as f:\n",
    "                    f.write(browser.html)\n",
    "                    f.close()\n",
    "                break\n",
    "            if browser.is_element_present_by_text('Access To Website Blocked')==True:\n",
    "                \n",
    "                break \n",
    "#         if(count>=10):#移除這個browser\n",
    "#         browser.cookies.delete()\n",
    "        browser.quit()\n",
    "        day=1+int(day)#字串轉整數\n",
    "        day1=1+int(day)\n",
    "        month=int(month)\n",
    "        month1=int(month1)\n",
    "if __name__ == '__main__':\n",
    "    print(\"thread 請輸入三個 year,month,day:\")\n",
    "    a=input()\n",
    "    b=input()\n",
    "    c=input()\n",
    "    thread1=myThread(1,a,b,c)\n",
    "    print(\"thread 請輸入三個year,month,day:\")\n",
    "    a=input()\n",
    "    b=input()\n",
    "    c=input()\n",
    "    thread2=myThread(2,a,b,c)\n",
    "    print(\"thread 請輸入三個year,month,day:\")\n",
    "    a=input()\n",
    "    b=input()\n",
    "    c=input()\n",
    "    thread3=myThread(3,a,b,c)\n",
    "    threads=[]\n",
    "    try:\n",
    "        thread1.start()\n",
    "        thread2.start()\n",
    "        thread3.start()\n",
    "        threads.append(thread1)\n",
    "        threads.append(thread2)\n",
    "        threads.append(thread3)\n",
    "        for t in threads:\n",
    "            t.join()\n",
    "            print(\" {} Exiting Main Thread\".format(t))\n",
    "    except:\n",
    "        pass"
   ]
  },
  {
   "cell_type": "code",
   "execution_count": 1,
   "metadata": {},
   "outputs": [
    {
     "data": {
      "text/plain": [
       "'./{}.html'"
      ]
     },
     "execution_count": 1,
     "metadata": {},
     "output_type": "execute_result"
    }
   ],
   "source": [
    "\"./{}.html\""
   ]
  },
  {
   "cell_type": "code",
   "execution_count": null,
   "metadata": {},
   "outputs": [
    {
     "name": "stdout",
     "output_type": "stream",
     "text": [
      "2017/08/03 downlowing\n",
      "200 - OK\n",
      "2017/08/04 downlowing\n"
     ]
    }
   ],
   "source": [
    "import requests\n",
    "from bs4 import BeautifulSoup\n",
    "import lxml,html5lib\n",
    "from splinter import *\n",
    "import time\n",
    "import random\n",
    "year='2017'#'''出發時間'''\n",
    "month=8\n",
    "day=3#強轉成整數\n",
    "year1='2017'#'返回時間'\n",
    "month1=8\n",
    "day1=8\n",
    "while(True):\n",
    "    count=1 #計算這個連線下載次數\n",
    "    if(month>12):\n",
    "        year=int(year)+1\n",
    "        year='%s' %(str(year))\n",
    "#       year='%s' %(str(year))#轉成字串\n",
    "    elif(month==1|month==3|month==5|month==7|month==8|month==10|month==12):#檢查31號的月份\n",
    "        if(day>31):\n",
    "            day=1\n",
    "            month=int(month)+1\n",
    "#             month='%s' %(str(month))\n",
    "    elif(month==4|month==6|month==9|month==11):\n",
    "        if(day>30):\n",
    "            day=1\n",
    "            month=int(month)+1\n",
    "#               month='%s' %(str(month))\n",
    "    elif(month==2):\n",
    "        if(day>28):\n",
    "            day=1\n",
    "            month=int(month)+1\n",
    "#               month='%s' %(str(month))\n",
    "    month='%s' %(str(month))\n",
    "    day='%s'%(str(day))\n",
    "    if(len(day)==1&len(month)==1):\n",
    "        date='%s/0%s/0%s' %(year,month,day)\n",
    "    else:\n",
    "        date='%s/%s/%s' %(year,month,day)       \n",
    "    if(month1>12):\n",
    "        year1=int(year1)+1\n",
    "        year1='%s' %(str(year1))\n",
    "#       year1='%s' %(str(year))#轉成字串\n",
    "    if(month1==1|month1==3|month1==5|month1==7|month1==8|month1==10|month1==12):#檢查31號的月份\n",
    "        if(day1>31):\n",
    "            day1=1\n",
    "            month1=int(month1)+1\n",
    "            month1='%s' %(str(month1))\n",
    "    elif(month1==4|month1==6|month1==9|month1==11):\n",
    "        if(day1>30):\n",
    "            day1=1\n",
    "            month1=int(month1)+1\n",
    "#           month1='%s' %(str(month1))\n",
    "    elif(month1==2):\n",
    "        if(day1>28):\n",
    "            day1=1\n",
    "            month=int(month1)+1\n",
    "#           month='%s' %(str(mont1))\n",
    "    month1='%s' %(str(month1))\n",
    "    day1='%s' %(str(day1))\n",
    "    if(len(day1)==1&len(month1)==1):\n",
    "        date1='%s/0%s/0%s' %(year1,month1,day1)\n",
    "    else:\n",
    "        date1='%s/%s/%s' %(year1,month1,day1)\n",
    "    print('%s downlowing'%(date))\n",
    "    browser=Browser(\"phantomjs\")\n",
    "#     browser=Browser('chrome')\n",
    "    browser.cookies.delete()\n",
    "    browser.driver.set_window_size(900, 1600)\n",
    "    browser.visit(\"https://www.china-airlines.com/tw/zh\")\n",
    "    browser.driver.set_window_size(400, 1600)\n",
    "    browser.find_by_id('From-booking').fill('台北')\n",
    "    browser.find_by_xpath('//*[@id=\"From-booking-suggestions\"]/li[1]').click()\n",
    "    browser.find_by_id('To-booking').fill('大阪-KIX-日本')\n",
    "    time.sleep( random.uniform(0.1,5))\n",
    "    browser.find_by_xpath('//*[@id=\"departureDateMobile\"]').fill(date)\n",
    "    time.sleep(random.uniform(0.1,5))\n",
    "    browser.find_by_xpath('//*[@id=\"returnDateMobile\"]').fill(date1)\n",
    "    time.sleep(random.uniform(0.1,5))\n",
    "    browser.find_by_xpath('//*[@id=\"FlightSearchResultPost\"]/div[3]/div/div[5]/a').click()\n",
    "    print(browser.status_code)\n",
    "    count+=1\n",
    "    time.sleep(10)\n",
    "    while True:\n",
    "        if browser.is_element_present_by_text('航班')==True:\n",
    "            with open('./{}{}{}.html'.format(year,month,day),'w',encoding=\"utf-8\") as f:\n",
    "                f.write(browser.html)\n",
    "                f.close()\n",
    "            break\n",
    "        if browser.is_element_present_by_text('Access To Website Blocked')==True:\n",
    "            break\n",
    "#     with open('D:/python_workspace/{}{}{}.html'.format(year,month,day),'w',encoding=\"utf-8\") as f:\n",
    "#         f.write(browser.html)\n",
    "#         f.close()\n",
    "        \n",
    "#         if(count>=10):#移除這個browser\n",
    "    browser.quit()\n",
    "    day=1+int(day)#字串轉整數\n",
    "    day1=1+int(day1)\n",
    "    month=int(month)\n",
    "    month1=int(month1)"
   ]
  },
  {
   "cell_type": "code",
   "execution_count": 8,
   "metadata": {},
   "outputs": [
    {
     "name": "stdout",
     "output_type": "stream",
     "text": [
      "Help on method reload in module splinter.driver.webdriver:\n",
      "\n",
      "reload() method of splinter.driver.webdriver.chrome.WebDriver instance\n",
      "    Revisits the current URL\n",
      "\n"
     ]
    }
   ],
   "source": [
    "help(browser.reload)"
   ]
  },
  {
   "cell_type": "code",
   "execution_count": 39,
   "metadata": {},
   "outputs": [
    {
     "name": "stdout",
     "output_type": "stream",
     "text": [
      "None\n"
     ]
    }
   ],
   "source": [
    "browser=Browser('chrome')\n",
    "print(browser.cookies.delete())"
   ]
  },
  {
   "cell_type": "code",
   "execution_count": null,
   "metadata": {
    "collapsed": true
   },
   "outputs": [],
   "source": []
  },
  {
   "cell_type": "code",
   "execution_count": null,
   "metadata": {
    "collapsed": true
   },
   "outputs": [],
   "source": []
  },
  {
   "cell_type": "code",
   "execution_count": null,
   "metadata": {
    "collapsed": true
   },
   "outputs": [],
   "source": []
  },
  {
   "cell_type": "code",
   "execution_count": null,
   "metadata": {
    "collapsed": true
   },
   "outputs": [],
   "source": []
  }
 ],
 "metadata": {
  "kernelspec": {
   "display_name": "Python 3",
   "language": "python",
   "name": "python3"
  },
  "language_info": {
   "codemirror_mode": {
    "name": "ipython",
    "version": 3
   },
   "file_extension": ".py",
   "mimetype": "text/x-python",
   "name": "python",
   "nbconvert_exporter": "python",
   "pygments_lexer": "ipython3",
   "version": "3.6.1"
  }
 },
 "nbformat": 4,
 "nbformat_minor": 2
}
